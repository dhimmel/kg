{
 "cells": [
  {
   "cell_type": "markdown",
   "metadata": {},
   "source": [
    "# Allele frequencies in 1000 Genomes Phase 3\n",
    "\n",
    "ftp://ftp-trace.ncbi.nih.gov/1000genomes/ftp/release/20130502/\n"
   ]
  },
  {
   "cell_type": "code",
   "execution_count": 1,
   "metadata": {
    "collapsed": false
   },
   "outputs": [],
   "source": [
    "import os\n",
    "import gzip\n",
    "import csv\n",
    "import vcf"
   ]
  },
  {
   "cell_type": "code",
   "execution_count": 2,
   "metadata": {
    "collapsed": false
   },
   "outputs": [
    {
     "data": {
      "text/plain": [
       "24"
      ]
     },
     "execution_count": 2,
     "metadata": {},
     "output_type": "execute_result"
    }
   ],
   "source": [
    "# Data downloaded from ftp://ftp-trace.ncbi.nih.gov/1000genomes/ftp/release/20130502/\n",
    "vcf_files = sorted(x for x in os.listdir('download') if x.endswith('a.20130502.genotypes.vcf.gz'))\n",
    "len(vcf_files)"
   ]
  },
  {
   "cell_type": "code",
   "execution_count": 3,
   "metadata": {
    "collapsed": false
   },
   "outputs": [],
   "source": [
    "def get_majar_af(aafs):\n",
    "    \"\"\"\n",
    "    Returns the major allele frequency from\n",
    "    the list of alternate allele frequencies.\n",
    "    \"\"\"\n",
    "    allele_freqs = aafs + [1 - sum(aafs)]\n",
    "    return max(allele_freqs)"
   ]
  },
  {
   "cell_type": "code",
   "execution_count": 4,
   "metadata": {
    "collapsed": true
   },
   "outputs": [],
   "source": [
    "major_af_max = 0.95"
   ]
  },
  {
   "cell_type": "code",
   "execution_count": null,
   "metadata": {
    "collapsed": false
   },
   "outputs": [],
   "source": [
    "write_file = gzip.open('data/common-SNPs.tsv.gz', 'wt')\n",
    "writer = csv.writer(write_file, delimiter='\\t')\n",
    "writer.writerow(('chromosome', 'position', 'major_allele_frequency', 'rsid'))\n",
    "for vcf_file in vcf_files:\n",
    "    print('Beginning', vcf_file)\n",
    "    path = os.path.join('download', vcf_file)\n",
    "    \n",
    "    for r in vcf.Reader(filename=path):\n",
    "        # Quality control\n",
    "        if r.FILTER:\n",
    "            continue\n",
    "\n",
    "        # Exclude non-SNPs\n",
    "        if not r.is_snp:\n",
    "            continue\n",
    "\n",
    "        # Major allele frequency check\n",
    "        major_af = get_majar_af(r.INFO['AF'])\n",
    "        if major_af > major_af_max:\n",
    "            continue\n",
    "        \n",
    "        # Write SNP to tsv\n",
    "        row = r.CHROM, r.POS, round(major_af, 6), r.ID\n",
    "        writer.writerow(row)\n",
    "\n",
    "write_file.close()"
   ]
  },
  {
   "cell_type": "code",
   "execution_count": null,
   "metadata": {
    "collapsed": true
   },
   "outputs": [],
   "source": [
    "vcf_files"
   ]
  }
 ],
 "metadata": {
  "kernelspec": {
   "display_name": "Python 3",
   "language": "python",
   "name": "python3"
  },
  "language_info": {
   "codemirror_mode": {
    "name": "ipython",
    "version": 3
   },
   "file_extension": ".py",
   "mimetype": "text/x-python",
   "name": "python",
   "nbconvert_exporter": "python",
   "pygments_lexer": "ipython3",
   "version": "3.4.3"
  }
 },
 "nbformat": 4,
 "nbformat_minor": 0
}
